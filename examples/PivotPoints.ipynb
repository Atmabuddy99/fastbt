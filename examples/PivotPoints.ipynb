{
 "cells": [
  {
   "cell_type": "markdown",
   "metadata": {},
   "source": [
    "## Pivot Points trading\n",
    "\n",
    "We would try pivot points trading. The following formulas would be used\n",
    "\n",
    " * P = (H+L+C)/3\n",
    " * R1 = 2 * P - L\n",
    " * S1 = 2 * P - H\n",
    " * R2 = P + (H - L)\n",
    " * S2 = P - (H - L)\n",
    " * R3 = R1 + (H- L)\n",
    " * S3 = S1 - (H - L)"
   ]
  },
  {
   "cell_type": "code",
   "execution_count": null,
   "metadata": {},
   "outputs": [],
   "source": [
    "# Import the necessary libraries\n",
    "import pandas as pd\n",
    "import seaborn as sns\n",
    "sns.set()\n",
    "from fastbt.datasource import DataSource\n",
    "from fastbt.rapid import *"
   ]
  },
  {
   "cell_type": "code",
   "execution_count": null,
   "metadata": {},
   "outputs": [],
   "source": [
    "# Loading data\n",
    "df = pd.read_csv('data/data.csv', parse_dates=['timestamp'])"
   ]
  },
  {
   "cell_type": "code",
   "execution_count": null,
   "metadata": {},
   "outputs": [],
   "source": [
    "# Let's look at the first 5 rows\n",
    "df.head()"
   ]
  },
  {
   "cell_type": "markdown",
   "metadata": {},
   "source": [
    "Let's add all the formulas above.\n",
    "\n",
    "I use the eval function to use the formula directly. The `eval` function is used to evaluate expression as formulas. So instead of writing\n",
    "```python\n",
    "    df['p'] = (df['high'] + df['low'] + df['close'])/3\n",
    "```\n",
    "you could used\n",
    "```python\n",
    "    df['p'] = df.eval('(high+low+close)/3')\n",
    "```"
   ]
  },
  {
   "cell_type": "code",
   "execution_count": null,
   "metadata": {},
   "outputs": [],
   "source": [
    "# Now add the necessary formulas\n",
    "\n",
    "df['_p'] = df.eval('(high+low+close)/3')\n",
    "df['_r1'] = df.eval('2*_p-low')\n",
    "df['_s1'] = df.eval('2*_p-high')\n",
    "df['_r2'] = df.eval('_p+(high-low)')\n",
    "df['_s2'] = df.eval('_p-(high-low)')\n",
    "df['_r3'] = df.eval('_r1+(high-low)')\n",
    "df['_s3'] = df.eval('_s1-(high-low)')\n",
    "\n"
   ]
  },
  {
   "cell_type": "markdown",
   "metadata": {},
   "source": [
    "The pivot points we calculated are based on the data for the end of the data. We need this data for the next day to make trades. So, I would just be lagging the data for these columns for one day.\n",
    "\n",
    "*The columns would now be named without underscore.*"
   ]
  },
  {
   "cell_type": "code",
   "execution_count": null,
   "metadata": {},
   "outputs": [],
   "source": [
    "cols = ['_p', '_r1', '_r2', '_r3', '_s1', '_s2', '_s3']\n",
    "ds = DataSource(df)\n",
    "for col in cols:\n",
    "    ds.add_lag(on=col, period=1, col_name=col[1:])\n",
    "\n",
    "# Let's add the daily return \n",
    "ds.add_formula('(prevclose/close)-1', col_name='ret')\n",
    "ds.add_lag(on='ret', period=1, col_name='retprev');"
   ]
  },
  {
   "cell_type": "markdown",
   "metadata": {},
   "source": [
    "Let's take a look at the correlation to see whether these points have any effect. Looks nothing interesting"
   ]
  },
  {
   "cell_type": "code",
   "execution_count": null,
   "metadata": {},
   "outputs": [],
   "source": [
    "ds.data.corr()['ret'].sort_values()"
   ]
  },
  {
   "cell_type": "markdown",
   "metadata": {},
   "source": [
    "Let's create the parameters for backtest\n",
    "\n",
    "We would place buy orders when the price hits the first support and hold till the end of the day. \n",
    "\n",
    "We would select 3 orders every day sorted according to price (this is *dumb* but we need some security selection)"
   ]
  },
  {
   "cell_type": "code",
   "execution_count": null,
   "metadata": {},
   "outputs": [],
   "source": [
    "# Backtest parameters\n",
    "# \n",
    "\n",
    "params = {\n",
    "    'data': ds.data.dropna(),\n",
    "    'limit': 3,\n",
    "    'sort_mode': 'price',\n",
    "    'order': 'B',\n",
    "    'price': 's1-0.05', # Buy only when price falls below support\n",
    "    'stop_loss': 3, # No stop loss,\n",
    "    'commission': 0.05\n",
    "}"
   ]
  },
  {
   "cell_type": "code",
   "execution_count": null,
   "metadata": {},
   "outputs": [],
   "source": [
    "ds.data.dropna()"
   ]
  },
  {
   "cell_type": "code",
   "execution_count": null,
   "metadata": {},
   "outputs": [],
   "source": [
    "results = backtest(**params)"
   ]
  },
  {
   "cell_type": "code",
   "execution_count": null,
   "metadata": {},
   "outputs": [],
   "source": [
    "results.profit.cumsum().plot(title='Cumulative Profit')"
   ]
  }
 ],
 "metadata": {
  "kernelspec": {
   "display_name": "Python 3",
   "language": "python",
   "name": "python3"
  },
  "language_info": {
   "codemirror_mode": {
    "name": "ipython",
    "version": 3
   },
   "file_extension": ".py",
   "mimetype": "text/x-python",
   "name": "python",
   "nbconvert_exporter": "python",
   "pygments_lexer": "ipython3",
   "version": "3.6.6"
  }
 },
 "nbformat": 4,
 "nbformat_minor": 2
}
